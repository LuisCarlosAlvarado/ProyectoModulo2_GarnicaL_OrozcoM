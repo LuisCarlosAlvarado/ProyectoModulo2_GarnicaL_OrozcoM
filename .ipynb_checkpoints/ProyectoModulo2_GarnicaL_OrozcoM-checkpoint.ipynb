{
 "cells": [
  {
   "cell_type": "markdown",
   "metadata": {},
   "source": [
    "<img style=\"float: left; margin: 30px 15px 15px 15px;\" src=\"https://pngimage.net/wp-content/uploads/2018/06/logo-iteso-png-5.png\" width=\"300\" height=\"500\" /> \n",
    "    \n",
    "    \n",
    "### <font color='navy'> Simulación de procesos financieros. \n",
    "\n",
    "**Nombres:** Aguirre Orozco Miguel y Alvarado Garnica Luis\n",
    "\n",
    "**Fecha:** \n",
    "\n",
    "**Expediente** : \n",
    "    \n",
    "**Profesor:** Oscar David Jaramillo Zuluaga.\n",
    "\n",
    "# Proyecto Módulo 2\n"
   ]
  },
  {
   "cell_type": "markdown",
   "metadata": {},
   "source": [
    "# <span style=\"color:red\"> MORTALIDAD POR INSUFICIENCIA CARDIACA"
   ]
  },
  {
   "cell_type": "markdown",
   "metadata": {},
   "source": [
    "Las enfermedades cardiovasculares (ECV) son la principal causa de muerte a nivel mundial , cobrando aproximadamente 17,9 millones de vidas cada año , lo que representa el 31% de todas las muertes en todo el mundo .\n",
    "\n",
    "La mayoría de las enfermedades cardiovasculares se pueden prevenir abordando los factores de riesgo conductuales como el consumo de tabaco, la dieta poco saludable y la obesidad, la inactividad física y el consumo nocivo de alcohol utilizando estrategias para toda la población.\n",
    "\n",
    "Las personas con enfermedad cardiovascular o que tienen un alto riesgo cardiovascular (debido a la presencia de uno o más factores de riesgo como hipertensión, diabetes, hiperlipidemia o enfermedad ya establecida) necesitan una detección y manejo precoces en los que un modelo de aprendizaje automático puede ser de gran ayuda."
   ]
  },
  {
   "cell_type": "markdown",
   "metadata": {},
   "source": [
    "## OBJETIVOS"
   ]
  },
  {
   "cell_type": "markdown",
   "metadata": {},
   "source": [
    "#### GENERAL"
   ]
  },
  {
   "cell_type": "markdown",
   "metadata": {},
   "source": [
    "Predecir la muerte de una persona con insuficiencia cardiaca."
   ]
  },
  {
   "cell_type": "markdown",
   "metadata": {},
   "source": [
    "#### ESPECÍFICOS"
   ]
  },
  {
   "cell_type": "markdown",
   "metadata": {},
   "source": [
    "* Encontrar la manera de complementar los nodos para realizar una predicción sobre muerte de cualquier persona. \n",
    "* Dar un apoyo extra a lo que los médicos puedan determinar con base a pruebas médicas.\n",
    "* Detectar posibles muertes futuras y generar un cambio en la persona para que su salud pueda mejorar.\n",
    "* Fungir como dato para la decisión del médico y paciente sobre operaciones, intervenciones o cualquier otro tratamiento que se deseé realizar.\n"
   ]
  },
  {
   "cell_type": "markdown",
   "metadata": {},
   "source": [
    "## PROBLEMA"
   ]
  },
  {
   "cell_type": "markdown",
   "metadata": {},
   "source": [
    "Se busca simular la muerte por insuficiencia cardiaca según los datos de distintos pacientes, tomando en cuenta sus pruebas médicas, historia clínica, hábitos y el flujo sanguíneo que presentan.\n",
    "\n",
    "Todo esto se va a juntar en el periodo de observación que lleve el paciente, y según los datos se determina la probabilidad de muerte. "
   ]
  },
  {
   "cell_type": "markdown",
   "metadata": {},
   "source": [
    "<img src=\"imagen.png\">\n",
    "<img src=\"imagen2.png\">"
   ]
  },
  {
   "cell_type": "markdown",
   "metadata": {},
   "source": [
    "## NODOS Y VARIABLES"
   ]
  },
  {
   "cell_type": "markdown",
   "metadata": {},
   "source": [
    "Edad:\n",
    "  * Se van a separar a aquellos que estén por encima y por debajo de la media de edad.\n",
    "  \n",
    "História clínica:\n",
    "  * Una enfermadad como antecedente puede aumentar la probabilidad de muerte. Se tomará en cuenta si tiene una de las 3, 2 enfermedades, las 3 o ninguna.\n",
    "\n",
    "Hábitos:\n",
    "  * El cuidado que le dan a su salud. En este caso si es o no fumador activo.\n",
    "  \n",
    "Pruebas médicas:\n",
    "  * Importante conocer el estado actual del paciente y como está su sangre.\n",
    "   \n",
    "Flujo sanguíneo:\n",
    "  * Cantidad de sangre que sale del corazón por cada contracción.\n",
    "  \n",
    "A todos estos nodos hay que agregarle el tiempo que se lleva en observación, es un determinante para aumentar o disminuir la probabilidad de muerte del paciente."
   ]
  },
  {
   "cell_type": "markdown",
   "metadata": {},
   "source": [
    "## HIPÓTESIS Y SUPUESTOS"
   ]
  },
  {
   "cell_type": "markdown",
   "metadata": {},
   "source": [
    "Supuestos:\n",
    "* Todos los datos son de pacientes con fallas cardiacas.\n",
    "* Todas las muertes se dan por complicaciones con esa falla.\n",
    "* Los resultados de los exámenes médicos son correctos.\n",
    "* Cada una de las variables influye directamente en la muerte de una persona.\n",
    "\n",
    "Hipótesis:\n",
    "* Los hombres serán más propensos a morir debido a que su corazón es más grande en tamaño.\n",
    "* Las personas con más edad morirán más fácilmente debido a un corazón más débil.\n",
    "* Aquellos con un periodo de observación más prolongado tendrán oportunidad de mejorar su salud."
   ]
  },
  {
   "cell_type": "markdown",
   "metadata": {},
   "source": [
    "## BASE DE DATOS"
   ]
  },
  {
   "cell_type": "markdown",
   "metadata": {},
   "source": [
    "La base de datos (autor: Davide Chicco) se obtiene por medio de la plataforma **Kaggle**, una comunidad en línea de científicos de datos y profesionales del aprendizaje automático que permite a los usuarios encontrar y publicar conjuntos de datos, explorar y crear modelos en un entorno de ciencia de datos basado en la web, trabajar con otros científicos de datos e ingenieros de aprendizaje automático y participar en concursos para resolver los desafíos de la ciencia de datos.\n",
    "\n",
    "Enlace a base de datos: https://www.kaggle.com/andrewmvd/heart-failure-clinical-data"
   ]
  },
  {
   "cell_type": "code",
   "execution_count": 1,
   "metadata": {},
   "outputs": [],
   "source": [
    "# Importación de todas las librerias a utilizar.\n",
    "import pandas as pd\n",
    "import numpy as np\n",
    "import matplotlib.pyplot as plt\n",
    "import scipy.stats as st\n",
    "from scipy import optimize\n",
    "import statsmodels.api as sm \n",
    "from statsmodels.nonparametric.kernel_density import KDEMultivariate\n",
    "from sklearn.neighbors import KernelDensity\n",
    "from sklearn.model_selection import GridSearchCV"
   ]
  },
  {
   "cell_type": "code",
   "execution_count": 2,
   "metadata": {
    "scrolled": true
   },
   "outputs": [
    {
     "data": {
      "text/html": [
       "<div>\n",
       "<style scoped>\n",
       "    .dataframe tbody tr th:only-of-type {\n",
       "        vertical-align: middle;\n",
       "    }\n",
       "\n",
       "    .dataframe tbody tr th {\n",
       "        vertical-align: top;\n",
       "    }\n",
       "\n",
       "    .dataframe thead th {\n",
       "        text-align: right;\n",
       "    }\n",
       "</style>\n",
       "<table border=\"1\" class=\"dataframe\">\n",
       "  <thead>\n",
       "    <tr style=\"text-align: right;\">\n",
       "      <th></th>\n",
       "      <th>Edad</th>\n",
       "      <th>Anemia</th>\n",
       "      <th>CPK</th>\n",
       "      <th>Diabetes</th>\n",
       "      <th>Flujo_Sangre</th>\n",
       "      <th>Hipertensión</th>\n",
       "      <th>Plaquetas</th>\n",
       "      <th>Creatinina</th>\n",
       "      <th>Sodio</th>\n",
       "      <th>Sexo</th>\n",
       "      <th>Fumador</th>\n",
       "      <th>T.obs</th>\n",
       "      <th>Muerte</th>\n",
       "    </tr>\n",
       "  </thead>\n",
       "  <tbody>\n",
       "    <tr>\n",
       "      <td>0</td>\n",
       "      <td>75.0</td>\n",
       "      <td>0</td>\n",
       "      <td>582</td>\n",
       "      <td>0</td>\n",
       "      <td>20</td>\n",
       "      <td>1</td>\n",
       "      <td>265000.00</td>\n",
       "      <td>1.9</td>\n",
       "      <td>130</td>\n",
       "      <td>1</td>\n",
       "      <td>0</td>\n",
       "      <td>4</td>\n",
       "      <td>1</td>\n",
       "    </tr>\n",
       "    <tr>\n",
       "      <td>1</td>\n",
       "      <td>55.0</td>\n",
       "      <td>0</td>\n",
       "      <td>7861</td>\n",
       "      <td>0</td>\n",
       "      <td>38</td>\n",
       "      <td>0</td>\n",
       "      <td>263358.03</td>\n",
       "      <td>1.1</td>\n",
       "      <td>136</td>\n",
       "      <td>1</td>\n",
       "      <td>0</td>\n",
       "      <td>6</td>\n",
       "      <td>1</td>\n",
       "    </tr>\n",
       "    <tr>\n",
       "      <td>2</td>\n",
       "      <td>65.0</td>\n",
       "      <td>0</td>\n",
       "      <td>146</td>\n",
       "      <td>0</td>\n",
       "      <td>20</td>\n",
       "      <td>0</td>\n",
       "      <td>162000.00</td>\n",
       "      <td>1.3</td>\n",
       "      <td>129</td>\n",
       "      <td>1</td>\n",
       "      <td>1</td>\n",
       "      <td>7</td>\n",
       "      <td>1</td>\n",
       "    </tr>\n",
       "    <tr>\n",
       "      <td>3</td>\n",
       "      <td>50.0</td>\n",
       "      <td>1</td>\n",
       "      <td>111</td>\n",
       "      <td>0</td>\n",
       "      <td>20</td>\n",
       "      <td>0</td>\n",
       "      <td>210000.00</td>\n",
       "      <td>1.9</td>\n",
       "      <td>137</td>\n",
       "      <td>1</td>\n",
       "      <td>0</td>\n",
       "      <td>7</td>\n",
       "      <td>1</td>\n",
       "    </tr>\n",
       "    <tr>\n",
       "      <td>4</td>\n",
       "      <td>65.0</td>\n",
       "      <td>1</td>\n",
       "      <td>160</td>\n",
       "      <td>1</td>\n",
       "      <td>20</td>\n",
       "      <td>0</td>\n",
       "      <td>327000.00</td>\n",
       "      <td>2.7</td>\n",
       "      <td>116</td>\n",
       "      <td>0</td>\n",
       "      <td>0</td>\n",
       "      <td>8</td>\n",
       "      <td>1</td>\n",
       "    </tr>\n",
       "  </tbody>\n",
       "</table>\n",
       "</div>"
      ],
      "text/plain": [
       "   Edad  Anemia   CPK  Diabetes  Flujo_Sangre  Hipertensión  Plaquetas  \\\n",
       "0  75.0       0   582         0            20             1  265000.00   \n",
       "1  55.0       0  7861         0            38             0  263358.03   \n",
       "2  65.0       0   146         0            20             0  162000.00   \n",
       "3  50.0       1   111         0            20             0  210000.00   \n",
       "4  65.0       1   160         1            20             0  327000.00   \n",
       "\n",
       "   Creatinina  Sodio  Sexo  Fumador  T.obs  Muerte  \n",
       "0         1.9    130     1        0      4       1  \n",
       "1         1.1    136     1        0      6       1  \n",
       "2         1.3    129     1        1      7       1  \n",
       "3         1.9    137     1        0      7       1  \n",
       "4         2.7    116     0        0      8       1  "
      ]
     },
     "execution_count": 2,
     "metadata": {},
     "output_type": "execute_result"
    }
   ],
   "source": [
    "data=pd.read_csv('../ProyectoModulo2_GarnicaL_OrozcoM/heart_failure.csv', encoding=\"'latin-1'\")\n",
    "data.head()"
   ]
  },
  {
   "cell_type": "code",
   "execution_count": 3,
   "metadata": {},
   "outputs": [],
   "source": [
    "def hist_clin(edad,sexo,a,b,c):\n",
    "    \n",
    "    enfermedad= np.zeros(299)\n",
    "    A= np.zeros(299)\n",
    "    B= np.zeros(299)\n",
    "    C= np.zeros(299)\n",
    "    AB= np.zeros(299)\n",
    "    AC= np.zeros(299)\n",
    "    BC= np.zeros(299)\n",
    "    ABC= np.zeros(299)\n",
    "    S= np.zeros(299)\n",
    "    condicion = []\n",
    "    def cond(i):\n",
    "        nonlocal enfermedad,A,B,C,AB,AC,BC,ABC,S,condicion\n",
    "        A[i] = True if (a[i] == True) and (b[i] == False and c[i] == False) else False \n",
    "        B[i] = True if (b[i] == True) and (a[i] == False and c[i] == False) else False\n",
    "        C[i] = True if (c[i] == True) and (a[i] == False and b[i] == False) else False\n",
    "        AB[i] = True if (a[i] == True and b[i] == True) and (c[i] == False) else False\n",
    "        AC[i] = True if (a[i] == True and c[i] == True) and (b[i] == False) else False\n",
    "        BC[i] = True if (b[i] == True and c[i] == True) and (a[i] == False) else False\n",
    "        ABC[i] = True if (a[i] == True and b[i] == True and c[i] == True) else False\n",
    "        S[i] = True if (a[i] == False) and (b[i] == False and c[i] == False) else False\n",
    "        condicion = [A,B,C,AB,AC,BC,ABC,S]\n",
    "    [cond(i) for i in range(299)]\n",
    "    \n",
    "    enfermedad = [[edad[i] for i in range(299) if condicion[j][i]] for j in range(8)]\n",
    "    \n",
    "    label_h=['Personas con anemia','Personas con diabetes','Personas con hipertensión','Personas con anemia y diabetes',\n",
    "       'Personas con anemia e hipertensión','Personas con diabetes e hipertensión','Personas con las 3 enfermedades',\n",
    "       'Personas sin enfermedad']\n",
    "\n",
    "    plt.figure(figsize=[8,4])\n",
    "    [plt.hist(enfermedad[i], 40,label=label_h[i]) for i in range(8)] \n",
    "    plt.title('Historia clínica')\n",
    "    plt.legend()"
   ]
  },
  {
   "cell_type": "code",
   "execution_count": 4,
   "metadata": {},
   "outputs": [
    {
     "data": {
      "image/png": "[encoded data removed]",
      "text/plain": [
       "<Figure size 576x288 with 1 Axes>"
      ]
     },
     "metadata": {
      "needs_background": "light"
     },
     "output_type": "display_data"
    }
   ],
   "source": [
    "hist_clin(data['Edad'],data['Sexo'],data['Anemia'],data['Diabetes'],data['Hipertensión'])"
   ]
  },
  {
   "cell_type": "code",
   "execution_count": 5,
   "metadata": {},
   "outputs": [
    {
     "data": {
      "text/html": [
       "<div>\n",
       "<style scoped>\n",
       "    .dataframe tbody tr th:only-of-type {\n",
       "        vertical-align: middle;\n",
       "    }\n",
       "\n",
       "    .dataframe tbody tr th {\n",
       "        vertical-align: top;\n",
       "    }\n",
       "\n",
       "    .dataframe thead th {\n",
       "        text-align: right;\n",
       "    }\n",
       "</style>\n",
       "<table border=\"1\" class=\"dataframe\">\n",
       "  <thead>\n",
       "    <tr style=\"text-align: right;\">\n",
       "      <th></th>\n",
       "      <th>Creatinina</th>\n",
       "      <th>Plaquetas</th>\n",
       "      <th>CPK</th>\n",
       "      <th>Sodio</th>\n",
       "      <th>Flujo_Sangre</th>\n",
       "      <th>T.obs</th>\n",
       "    </tr>\n",
       "  </thead>\n",
       "  <tbody>\n",
       "    <tr>\n",
       "      <td>0</td>\n",
       "      <td>0.5</td>\n",
       "      <td>25100.0</td>\n",
       "      <td>23.0</td>\n",
       "      <td>113.0</td>\n",
       "      <td>14.0</td>\n",
       "      <td>4.0</td>\n",
       "    </tr>\n",
       "    <tr>\n",
       "      <td>1</td>\n",
       "      <td>0.6</td>\n",
       "      <td>47000.0</td>\n",
       "      <td>30.0</td>\n",
       "      <td>116.0</td>\n",
       "      <td>15.0</td>\n",
       "      <td>6.0</td>\n",
       "    </tr>\n",
       "    <tr>\n",
       "      <td>2</td>\n",
       "      <td>0.6</td>\n",
       "      <td>51000.0</td>\n",
       "      <td>47.0</td>\n",
       "      <td>121.0</td>\n",
       "      <td>15.0</td>\n",
       "      <td>7.0</td>\n",
       "    </tr>\n",
       "    <tr>\n",
       "      <td>3</td>\n",
       "      <td>0.6</td>\n",
       "      <td>62000.0</td>\n",
       "      <td>47.0</td>\n",
       "      <td>124.0</td>\n",
       "      <td>17.0</td>\n",
       "      <td>7.0</td>\n",
       "    </tr>\n",
       "    <tr>\n",
       "      <td>4</td>\n",
       "      <td>0.6</td>\n",
       "      <td>70000.0</td>\n",
       "      <td>47.0</td>\n",
       "      <td>125.0</td>\n",
       "      <td>17.0</td>\n",
       "      <td>8.0</td>\n",
       "    </tr>\n",
       "  </tbody>\n",
       "</table>\n",
       "</div>"
      ],
      "text/plain": [
       "   Creatinina  Plaquetas   CPK  Sodio  Flujo_Sangre  T.obs\n",
       "0         0.5    25100.0  23.0  113.0          14.0    4.0\n",
       "1         0.6    47000.0  30.0  116.0          15.0    6.0\n",
       "2         0.6    51000.0  47.0  121.0          15.0    7.0\n",
       "3         0.6    62000.0  47.0  124.0          17.0    7.0\n",
       "4         0.6    70000.0  47.0  125.0          17.0    8.0"
      ]
     },
     "execution_count": 5,
     "metadata": {},
     "output_type": "execute_result"
    }
   ],
   "source": [
    "#Creación Data Frame 'limpio' \n",
    "\n",
    "data2 = pd.DataFrame(columns=['Creatinina', 'Plaquetas',\n",
    "                              'CPK', 'Sodio',\n",
    "                              'Flujo_Sangre', 'T.obs'])\n",
    "\n",
    "# Lllenar el Data Frame limpio y acomodarlo\n",
    "\n",
    "data2['Creatinina'] = sorted(data.T.loc['Creatinina'])\n",
    "data2['Plaquetas'] = sorted(data.T.loc['Plaquetas'])\n",
    "data2['CPK'] = sorted(data.T.loc['CPK'])\n",
    "data2['Sodio'] = sorted(data.T.loc['Sodio'])\n",
    "data2['Flujo_Sangre'] = sorted(data.T.loc['Flujo_Sangre'])\n",
    "data2['T.obs'] = data.T.loc['T.obs']\n",
    "\n",
    "data2.head(5)"
   ]
  },
  {
   "cell_type": "code",
   "execution_count": 6,
   "metadata": {},
   "outputs": [
    {
     "data": {
      "text/html": [
       "<div>\n",
       "<style scoped>\n",
       "    .dataframe tbody tr th:only-of-type {\n",
       "        vertical-align: middle;\n",
       "    }\n",
       "\n",
       "    .dataframe tbody tr th {\n",
       "        vertical-align: top;\n",
       "    }\n",
       "\n",
       "    .dataframe thead th {\n",
       "        text-align: right;\n",
       "    }\n",
       "</style>\n",
       "<table border=\"1\" class=\"dataframe\">\n",
       "  <thead>\n",
       "    <tr style=\"text-align: right;\">\n",
       "      <th></th>\n",
       "      <th>Media</th>\n",
       "      <th>Volatilidad</th>\n",
       "    </tr>\n",
       "  </thead>\n",
       "  <tbody>\n",
       "    <tr>\n",
       "      <td>Creatinina</td>\n",
       "      <td>1.393880</td>\n",
       "      <td>1.034510</td>\n",
       "    </tr>\n",
       "    <tr>\n",
       "      <td>Plaquetas</td>\n",
       "      <td>263358.029264</td>\n",
       "      <td>97804.236869</td>\n",
       "    </tr>\n",
       "    <tr>\n",
       "      <td>CPK</td>\n",
       "      <td>581.839465</td>\n",
       "      <td>970.287881</td>\n",
       "    </tr>\n",
       "    <tr>\n",
       "      <td>Sodio</td>\n",
       "      <td>136.625418</td>\n",
       "      <td>4.412477</td>\n",
       "    </tr>\n",
       "    <tr>\n",
       "      <td>Flujo_Sangre</td>\n",
       "      <td>38.083612</td>\n",
       "      <td>11.834841</td>\n",
       "    </tr>\n",
       "    <tr>\n",
       "      <td>T.obs</td>\n",
       "      <td>130.260870</td>\n",
       "      <td>77.614208</td>\n",
       "    </tr>\n",
       "  </tbody>\n",
       "</table>\n",
       "</div>"
      ],
      "text/plain": [
       "                      Media   Volatilidad\n",
       "Creatinina         1.393880      1.034510\n",
       "Plaquetas     263358.029264  97804.236869\n",
       "CPK              581.839465    970.287881\n",
       "Sodio            136.625418      4.412477\n",
       "Flujo_Sangre      38.083612     11.834841\n",
       "T.obs            130.260870     77.614208"
      ]
     },
     "execution_count": 6,
     "metadata": {},
     "output_type": "execute_result"
    }
   ],
   "source": [
    "#Estadísticas de cada uno de los indicadores\n",
    "\n",
    "tabla = pd.DataFrame({'Media': data2.mean(),\n",
    "                      'Volatilidad': data2.std()})\n",
    "tabla"
   ]
  },
  {
   "cell_type": "code",
   "execution_count": 7,
   "metadata": {
    "scrolled": false
   },
   "outputs": [
    {
     "data": {
      "image/png": "[encoded data removed]",
      "text/plain": [
       "<Figure size 432x288 with 1 Axes>"
      ]
     },
     "metadata": {
      "needs_background": "light"
     },
     "output_type": "display_data"
    },
    {
     "data": {
      "image/png": "[encoded data removed]",
      "text/plain": [
       "<Figure size 432x288 with 1 Axes>"
      ]
     },
     "metadata": {
      "needs_background": "light"
     },
     "output_type": "display_data"
    },
    {
     "data": {
      "image/png": "[encoded data removed]",
      "text/plain": [
       "<Figure size 432x288 with 1 Axes>"
      ]
     },
     "metadata": {
      "needs_background": "light"
     },
     "output_type": "display_data"
    },
    {
     "data": {
      "image/png": "[encoded data removed]",
      "text/plain": [
       "<Figure size 432x288 with 1 Axes>"
      ]
     },
     "metadata": {
      "needs_background": "light"
     },
     "output_type": "display_data"
    },
    {
     "data": {
      "image/png": "[encoded data removed]",
      "text/plain": [
       "<Figure size 432x288 with 1 Axes>"
      ]
     },
     "metadata": {
      "needs_background": "light"
     },
     "output_type": "display_data"
    },
    {
     "data": {
      "image/png": "[encoded data removed]",
      "text/plain": [
       "<Figure size 432x288 with 1 Axes>"
      ]
     },
     "metadata": {
      "needs_background": "light"
     },
     "output_type": "display_data"
    }
   ],
   "source": [
    "#Graficar los datos que tenemos individualmente para poder analizar cada uno por separado\n",
    "color_index = 0\n",
    "colors = \"bgrcmyk\"\n",
    "\n",
    "# Graficar cada uno\n",
    "\n",
    "for i in range(len([c for c in data2])):\n",
    "    plt.plot(data2.iloc[:,i], \n",
    "             label = [c for c in data2][i], \n",
    "             c = colors[color_index])\n",
    "    \n",
    "    color_index += 1\n",
    "    plt.xlabel('Pacientes')\n",
    "    plt.ylabel([c for c in data2][i])\n",
    "    plt.legend()\n",
    "    plt.grid()\n",
    "    plt.show()"
   ]
  },
  {
   "cell_type": "markdown",
   "metadata": {},
   "source": [
    "# Funciones a utilizar"
   ]
  },
  {
   "cell_type": "code",
   "execution_count": 8,
   "metadata": {},
   "outputs": [],
   "source": [
    "#Declaración Distribuciones a Utilizar \n",
    "distribuciones = ['uniform', 'expon', 'exponnorm',\n",
    "                 'beta', 'gamma', 'lognorm','norm',\n",
    "                 'laplace']"
   ]
  },
  {
   "cell_type": "code",
   "execution_count": 9,
   "metadata": {},
   "outputs": [],
   "source": [
    "def distribucion(distribuciones,datos):\n",
    "    \n",
    "    def imprimir(dist):\n",
    "        param = getattr(st, dist).fit(datos)\n",
    "        y_est = getattr(st, dist).pdf(x_real, * param)\n",
    "        plt.plot(x_real,y_est, label = dist);\n",
    "        print('El error de la distribucion', dist,'es de',\n",
    "        (abs(y_real - y_est) * 100 / y_est).mean(),'%')\n",
    "        \n",
    "    [imprimir(dist) for dist in distribuciones]"
   ]
  },
  {
   "cell_type": "code",
   "execution_count": 10,
   "metadata": {},
   "outputs": [],
   "source": [
    "# Histograma de las variables creadas\n",
    "def QQ(datos,dist):\n",
    "    fig, ax = plt.subplots(3,1, figsize=(8,10))\n",
    "    fig.tight_layout(pad=3.0)\n",
    "\n",
    "    y, x, _ = ax[0].hist(datos, bins = 35, density=True)\n",
    "    x = x[1:]\n",
    "    plt.grid()\n",
    "    ax[0].grid()\n",
    "    #datos\n",
    "    params = getattr(st, dist).fit(datos)\n",
    "\n",
    "    # Graficar PDF de la distribución que queremos probar\n",
    "\n",
    "    y = getattr(st, dist).pdf(x, *params)\n",
    "    ax[0].plot(x,y,'r--')\n",
    "    ax[0].set_ylabel('Probability')\n",
    "\n",
    "    grap2 = st.probplot(datos,dist=dist, sparams=getattr(st, dist).fit(x)[:-2], plot=ax[1], fit=True)\n",
    "    ax[1].set_title('Usando paquete scipy')\n",
    "\n",
    "    grap1 = sm.qqplot(datos, dist=dist, line='s', fit=True, ax=ax[2])\n",
    "    ax[2].set_title('Usando paquete stats')\n",
    "\n",
    "    plt.show()"
   ]
  },
  {
   "cell_type": "code",
   "execution_count": 11,
   "metadata": {},
   "outputs": [],
   "source": [
    "# Funcion que retorna una funcion de densidad de probabilidad de un conjunto de datos\n",
    "def kde_statsmodels_mf(x, **kwargs):\n",
    "    \"\"\"Multivariate Kernel Density Estimation with Statsmodels\"\"\"\n",
    "    kde = KDEMultivariate(x, \n",
    "                          bw='cv_ml',\n",
    "                          var_type='c', **kwargs)\n",
    "    f = lambda x_grid: kde.pdf(x_grid)\n",
    "    return f"
   ]
  },
  {
   "cell_type": "code",
   "execution_count": 12,
   "metadata": {},
   "outputs": [],
   "source": [
    "def nueva_fun(datos,x):\n",
    "    fig, ax = plt.subplots(2,1, figsize=(6,8))\n",
    "    f = kde_statsmodels_mf(datos)\n",
    "    max_f = f(optimize.fmin(lambda x:-f(x),0,disp=False))\n",
    "    \n",
    "    ax[0].plot(x,f(x));\n",
    "    ax[0].hist(datos,bins = 35, density = True);\n",
    "    \n",
    "    ax[1].plot(0,max_f,'x',lw = 10)\n",
    "    ax[1].plot(x,f(x));\n",
    "    \n",
    "    plt.show()"
   ]
  },
  {
   "cell_type": "code",
   "execution_count": 13,
   "metadata": {},
   "outputs": [],
   "source": [
    "def acep_rechazo(f:'función objetivo a generar',\n",
    "                 max_f:'maximo de la funcion',\n",
    "                 N: 'numero de variables aleatorias distribuidas a generar',\n",
    "                 y_ar):\n",
    "    '''Funcion para hacer el metodo de aceptacion de rechazo '''\n",
    "    X = np.zeros(N)\n",
    "    i = 0 \n",
    "    \n",
    "    while i < N:\n",
    "        R2 = np.random.uniform(0,max_f)\n",
    "        R1 = np.random.uniform(0,y_ar,1)\n",
    "        if R2 < f(R1):\n",
    "            X[i] = R1\n",
    "            i+=1\n",
    "    return X"
   ]
  },
  {
   "cell_type": "code",
   "execution_count": 14,
   "metadata": {},
   "outputs": [],
   "source": [
    "def montecarlo(datos,x,N,y_ar):\n",
    "    f = kde_statsmodels_mf(datos)\n",
    "    max_f = f(optimize.fmin(lambda x:-f(x),0,disp=False))\n",
    "    plt.figure()\n",
    "    plt.plot(x,f(x))\n",
    "    plt.hist(acep_rechazo(f,max_f,N,y_ar),bins = 70, density = True);\n",
    "    plt.show()"
   ]
  },
  {
   "cell_type": "code",
   "execution_count": null,
   "metadata": {},
   "outputs": [],
   "source": []
  },
  {
   "cell_type": "code",
   "execution_count": null,
   "metadata": {},
   "outputs": [],
   "source": []
  },
  {
   "cell_type": "markdown",
   "metadata": {},
   "source": [
    "# CREATININA"
   ]
  },
  {
   "cell_type": "code",
   "execution_count": 15,
   "metadata": {
    "scrolled": true
   },
   "outputs": [
    {
     "data": {
      "image/png": "[encoded data removed]",
      "text/plain": [
       "<Figure size 432x288 with 1 Axes>"
      ]
     },
     "metadata": {
      "needs_background": "light"
     },
     "output_type": "display_data"
    }
   ],
   "source": [
    "#Graficar histograma de los datos de nuestra variable\n",
    "plt.hist(data2['Creatinina'], bins = 25, density = True );# CREATININA# CREATININA"
   ]
  },
  {
   "cell_type": "code",
   "execution_count": 16,
   "metadata": {},
   "outputs": [],
   "source": [
    "datos = data2['Creatinina']\n",
    "x = np.arange(0,8,.01)\n",
    "y_ar= 8"
   ]
  },
  {
   "cell_type": "code",
   "execution_count": 17,
   "metadata": {},
   "outputs": [
    {
     "name": "stdout",
     "output_type": "stream",
     "text": [
      "El error de la distribucion uniform es de 144.5886287625418 %\n",
      "El error de la distribucion expon es de 1294.0431933873922 %\n",
      "El error de la distribucion exponnorm es de 16656.994584222222 %\n"
     ]
    },
    {
     "name": "stderr",
     "output_type": "stream",
     "text": [
      "C:\\Users\\luill\\Anaconda3\\lib\\site-packages\\scipy\\stats\\_continuous_distns.py:515: RuntimeWarning: invalid value encountered in sqrt\n",
      "  sk = 2*(b-a)*np.sqrt(a + b + 1) / (a + b + 2) / np.sqrt(a*b)\n",
      "C:\\Users\\luill\\Anaconda3\\lib\\site-packages\\scipy\\optimize\\minpack.py:162: RuntimeWarning: The iteration is not making good progress, as measured by the \n",
      "  improvement from the last ten iterations.\n",
      "  warnings.warn(msg, RuntimeWarning)\n"
     ]
    },
    {
     "name": "stdout",
     "output_type": "stream",
     "text": [
      "El error de la distribucion beta es de 71424.62825623695 %\n",
      "El error de la distribucion gamma es de 80.36941241393771 %\n",
      "El error de la distribucion lognorm es de 880.2000495449224 %\n",
      "El error de la distribucion norm es de 1169433817994.4634 %\n",
      "El error de la distribucion laplace es de 1294912.7971616453 %\n"
     ]
    },
    {
     "data": {
      "image/png": "[encoded data removed]",
      "text/plain": [
       "<Figure size 432x288 with 1 Axes>"
      ]
     },
     "metadata": {
      "needs_background": "light"
     },
     "output_type": "display_data"
    }
   ],
   "source": [
    "y_real, x_real,  _ = plt.hist(datos,\n",
    "                              bins = 25, density = True) #hacer histograma\n",
    "\n",
    "x_real = x_real[1:] # modificar shape para que rea igual\n",
    "\n",
    "distribucion(distribuciones,datos)\n",
    "plt.legend()\n",
    "plt.show()"
   ]
  },
  {
   "cell_type": "code",
   "execution_count": 18,
   "metadata": {},
   "outputs": [
    {
     "data": {
      "image/png": "[encoded data removed]",
      "text/plain": [
       "<Figure size 576x720 with 3 Axes>"
      ]
     },
     "metadata": {
      "needs_background": "light"
     },
     "output_type": "display_data"
    }
   ],
   "source": [
    "QQ(datos,'gamma')"
   ]
  },
  {
   "cell_type": "code",
   "execution_count": 19,
   "metadata": {
    "scrolled": false
   },
   "outputs": [
    {
     "data": {
      "image/png": "[encoded data removed]",
      "text/plain": [
       "<Figure size 432x576 with 2 Axes>"
      ]
     },
     "metadata": {
      "needs_background": "light"
     },
     "output_type": "display_data"
    }
   ],
   "source": [
    "nueva_fun(datos,x)"
   ]
  },
  {
   "cell_type": "code",
   "execution_count": null,
   "metadata": {},
   "outputs": [],
   "source": [
    "# def QQ_2(datos,dist,x):\n",
    "    \n",
    "#     y= dist(x)\n",
    "#     plt.plot(x,y)\n",
    "#     plt.hist(datos,bins = 30, density = True);\n",
    "    \n",
    "#     grap1 = sm.qqplot(datos, dist=dist(), line='s', fit=True)\n",
    "\n",
    "#     plt.grid()\n",
    "#     plt.show()"
   ]
  },
  {
   "cell_type": "code",
   "execution_count": null,
   "metadata": {
    "scrolled": false
   },
   "outputs": [],
   "source": [
    "# dist= kde_statsmodels_mf(datos)\n",
    "# QQ_2(datos,dist,x)"
   ]
  },
  {
   "cell_type": "code",
   "execution_count": 20,
   "metadata": {},
   "outputs": [
    {
     "data": {
      "image/png": "[encoded data removed]",
      "text/plain": [
       "<Figure size 432x288 with 1 Axes>"
      ]
     },
     "metadata": {
      "needs_background": "light"
     },
     "output_type": "display_data"
    }
   ],
   "source": [
    "montecarlo(datos,x,1000,y_ar)"
   ]
  },
  {
   "cell_type": "code",
   "execution_count": null,
   "metadata": {},
   "outputs": [],
   "source": []
  },
  {
   "cell_type": "code",
   "execution_count": null,
   "metadata": {},
   "outputs": [],
   "source": []
  },
  {
   "cell_type": "code",
   "execution_count": null,
   "metadata": {},
   "outputs": [],
   "source": []
  },
  {
   "cell_type": "markdown",
   "metadata": {},
   "source": [
    "# PLAQUETAS"
   ]
  },
  {
   "cell_type": "code",
   "execution_count": null,
   "metadata": {},
   "outputs": [],
   "source": [
    "#Graficar histograma de los datos de nuestra variable\n",
    "plt.hist(data2['Plaquetas'], bins = 25, density = True );"
   ]
  },
  {
   "cell_type": "code",
   "execution_count": null,
   "metadata": {},
   "outputs": [],
   "source": [
    "datos = data2['Plaquetas']\n",
    "x = np.arange(0,8e5,100)\n",
    "y_ar=8e5"
   ]
  },
  {
   "cell_type": "code",
   "execution_count": null,
   "metadata": {},
   "outputs": [],
   "source": [
    "y_real, x_real,  _ = plt.hist(datos,\n",
    "                              bins = 25, density = True) #hacer histograma\n",
    "\n",
    "x_real = x_real[1:] # modificar shape para que rea igual\n",
    "\n",
    "distribucion(distribuciones,datos)\n",
    "plt.legend()\n",
    "plt.show()"
   ]
  },
  {
   "cell_type": "code",
   "execution_count": null,
   "metadata": {},
   "outputs": [],
   "source": [
    "QQ(datos,'expon')"
   ]
  },
  {
   "cell_type": "code",
   "execution_count": null,
   "metadata": {},
   "outputs": [],
   "source": [
    "nueva_fun(datos,x)"
   ]
  },
  {
   "cell_type": "code",
   "execution_count": null,
   "metadata": {},
   "outputs": [],
   "source": [
    "montecarlo(datos,x,1000,y_ar)"
   ]
  },
  {
   "cell_type": "code",
   "execution_count": null,
   "metadata": {},
   "outputs": [],
   "source": []
  },
  {
   "cell_type": "code",
   "execution_count": null,
   "metadata": {},
   "outputs": [],
   "source": []
  },
  {
   "cell_type": "markdown",
   "metadata": {},
   "source": [
    "# CPK"
   ]
  },
  {
   "cell_type": "code",
   "execution_count": null,
   "metadata": {},
   "outputs": [],
   "source": [
    "#Graficar histograma de los datos de nuestra variable\n",
    "plt.hist(data2['CPK'], bins = 25, density = True );"
   ]
  },
  {
   "cell_type": "code",
   "execution_count": null,
   "metadata": {},
   "outputs": [],
   "source": [
    "datos = data2['CPK']\n",
    "x = np.arange(0,8000,10)\n",
    "y_ar=8000"
   ]
  },
  {
   "cell_type": "code",
   "execution_count": null,
   "metadata": {},
   "outputs": [],
   "source": [
    "y_real, x_real,  _ = plt.hist(datos,\n",
    "                              bins = 25, density = True) #hacer histograma\n",
    "\n",
    "x_real = x_real[1:] # modificar shape para que rea igual\n",
    "\n",
    "distribucion(distribuciones,datos)\n",
    "plt.legend()\n",
    "plt.show()"
   ]
  },
  {
   "cell_type": "code",
   "execution_count": null,
   "metadata": {},
   "outputs": [],
   "source": [
    "QQ(datos,'uniform')"
   ]
  },
  {
   "cell_type": "code",
   "execution_count": null,
   "metadata": {},
   "outputs": [],
   "source": [
    "nueva_fun(datos,x)"
   ]
  },
  {
   "cell_type": "code",
   "execution_count": null,
   "metadata": {},
   "outputs": [],
   "source": [
    "montecarlo(datos,x,1000,y_ar)"
   ]
  },
  {
   "cell_type": "code",
   "execution_count": null,
   "metadata": {},
   "outputs": [],
   "source": []
  },
  {
   "cell_type": "code",
   "execution_count": null,
   "metadata": {},
   "outputs": [],
   "source": []
  },
  {
   "cell_type": "markdown",
   "metadata": {},
   "source": [
    "# SODIO"
   ]
  },
  {
   "cell_type": "code",
   "execution_count": null,
   "metadata": {},
   "outputs": [],
   "source": [
    "#Graficar histograma de los datos de nuestra variable\n",
    "plt.hist(data2['Sodio'], bins = 25, density = True );"
   ]
  },
  {
   "cell_type": "code",
   "execution_count": null,
   "metadata": {},
   "outputs": [],
   "source": [
    "datos = data2['Sodio']\n",
    "x = np.arange(0,150,1)\n",
    "y_ar=150"
   ]
  },
  {
   "cell_type": "code",
   "execution_count": null,
   "metadata": {},
   "outputs": [],
   "source": [
    "y_real, x_real,  _ = plt.hist(datos,\n",
    "                              bins = 25, density = True) #hacer histograma\n",
    "\n",
    "x_real = x_real[1:] # modificar shape para que rea igual\n",
    "\n",
    "distribucion(distribuciones,datos)\n",
    "plt.legend()\n",
    "plt.show()"
   ]
  },
  {
   "cell_type": "code",
   "execution_count": null,
   "metadata": {},
   "outputs": [],
   "source": [
    "QQ(datos,'uniform')"
   ]
  },
  {
   "cell_type": "code",
   "execution_count": null,
   "metadata": {},
   "outputs": [],
   "source": [
    "nueva_fun(datos,x)"
   ]
  },
  {
   "cell_type": "code",
   "execution_count": null,
   "metadata": {},
   "outputs": [],
   "source": [
    "montecarlo(datos,x,1000,y_ar)"
   ]
  },
  {
   "cell_type": "code",
   "execution_count": null,
   "metadata": {},
   "outputs": [],
   "source": []
  },
  {
   "cell_type": "code",
   "execution_count": null,
   "metadata": {},
   "outputs": [],
   "source": []
  },
  {
   "cell_type": "code",
   "execution_count": null,
   "metadata": {},
   "outputs": [],
   "source": []
  },
  {
   "cell_type": "markdown",
   "metadata": {},
   "source": [
    "# FLUJO DE SANGRE"
   ]
  },
  {
   "cell_type": "code",
   "execution_count": null,
   "metadata": {},
   "outputs": [],
   "source": [
    "#Graficar histograma de los datos de nuestra variable\n",
    "plt.hist(data2['Flujo_Sangre'], bins = 15, density = True );"
   ]
  },
  {
   "cell_type": "code",
   "execution_count": null,
   "metadata": {},
   "outputs": [],
   "source": [
    "datos = data2['Flujo_Sangre']\n",
    "x = np.arange(0,80,1)\n",
    "y_ar=80"
   ]
  },
  {
   "cell_type": "code",
   "execution_count": null,
   "metadata": {},
   "outputs": [],
   "source": [
    "y_real, x_real,  _ = plt.hist(datos,\n",
    "                              bins = 25, density = True) #hacer histograma\n",
    "\n",
    "x_real = x_real[1:] # modificar shape para que rea igual\n",
    "\n",
    "distribucion(distribuciones,datos)\n",
    "plt.legend()\n",
    "plt.show()"
   ]
  },
  {
   "cell_type": "code",
   "execution_count": null,
   "metadata": {},
   "outputs": [],
   "source": [
    "QQ(datos,'exponnorm')"
   ]
  },
  {
   "cell_type": "code",
   "execution_count": null,
   "metadata": {},
   "outputs": [],
   "source": [
    "nueva_fun(datos,x)"
   ]
  },
  {
   "cell_type": "code",
   "execution_count": null,
   "metadata": {},
   "outputs": [],
   "source": [
    "montecarlo(datos,x,1000,y_ar)"
   ]
  },
  {
   "cell_type": "code",
   "execution_count": null,
   "metadata": {},
   "outputs": [],
   "source": []
  },
  {
   "cell_type": "code",
   "execution_count": null,
   "metadata": {},
   "outputs": [],
   "source": []
  },
  {
   "cell_type": "code",
   "execution_count": null,
   "metadata": {},
   "outputs": [],
   "source": []
  },
  {
   "cell_type": "markdown",
   "metadata": {},
   "source": [
    "# TIEMPO DE OBSERVACIÓN"
   ]
  },
  {
   "cell_type": "code",
   "execution_count": null,
   "metadata": {},
   "outputs": [],
   "source": [
    "#Graficar histograma de los datos de nuestra variable\n",
    "plt.hist(data2['T.obs'], bins = 25, density = True );"
   ]
  },
  {
   "cell_type": "code",
   "execution_count": null,
   "metadata": {},
   "outputs": [],
   "source": [
    "datos = data2['T.obs']\n",
    "x = np.arange(0,300,1)\n",
    "y_ar=300"
   ]
  },
  {
   "cell_type": "code",
   "execution_count": null,
   "metadata": {},
   "outputs": [],
   "source": [
    "y_real, x_real,  _ = plt.hist(datos,\n",
    "                              bins = 25, density = True) #hacer histograma\n",
    "\n",
    "x_real = x_real[1:] # modificar shape para que rea igual\n",
    "\n",
    "distribucion(distribuciones,datos)\n",
    "plt.legend()\n",
    "plt.show()"
   ]
  },
  {
   "cell_type": "code",
   "execution_count": null,
   "metadata": {},
   "outputs": [],
   "source": [
    "QQ(datos,'beta')"
   ]
  },
  {
   "cell_type": "code",
   "execution_count": null,
   "metadata": {},
   "outputs": [],
   "source": [
    "nueva_fun(datos,x)"
   ]
  },
  {
   "cell_type": "code",
   "execution_count": null,
   "metadata": {},
   "outputs": [],
   "source": [
    "montecarlo(datos,x,1000)"
   ]
  },
  {
   "cell_type": "code",
   "execution_count": null,
   "metadata": {},
   "outputs": [],
   "source": []
  },
  {
   "cell_type": "code",
   "execution_count": null,
   "metadata": {},
   "outputs": [],
   "source": []
  },
  {
   "cell_type": "code",
   "execution_count": null,
   "metadata": {},
   "outputs": [],
   "source": []
  }
 ],
 "metadata": {
  "kernelspec": {
   "display_name": "Python 3",
   "language": "python",
   "name": "python3"
  },
  "language_info": {
   "codemirror_mode": {
    "name": "ipython",
    "version": 3
   },
   "file_extension": ".py",
   "mimetype": "text/x-python",
   "name": "python",
   "nbconvert_exporter": "python",
   "pygments_lexer": "ipython3",
   "version": "3.7.4"
  }
 },
 "nbformat": 4,
 "nbformat_minor": 2
}
