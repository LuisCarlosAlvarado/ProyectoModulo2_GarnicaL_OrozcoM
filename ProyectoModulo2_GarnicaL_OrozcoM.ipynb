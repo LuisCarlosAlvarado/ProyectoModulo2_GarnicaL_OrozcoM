{
 "cells": [
  {
   "cell_type": "markdown",
   "metadata": {},
   "source": [
    "<img style=\"float: left; margin: 30px 15px 15px 15px;\" src=\"https://pngimage.net/wp-content/uploads/2018/06/logo-iteso-png-5.png\" width=\"300\" height=\"500\" /> \n",
    "    \n",
    "    \n",
    "### <font color='navy'> Simulación de procesos financieros. \n",
    "\n",
    "**Nombres:** Aguirre Orozco Miguel y Alvarado Garnica Luis\n",
    "\n",
    "**Fecha:** \n",
    "\n",
    "**Expediente** : \n",
    "    \n",
    "**Profesor:** Oscar David Jaramillo Zuluaga.\n",
    "\n",
    "# Proyecto Módulo 2\n"
   ]
  },
  {
   "cell_type": "markdown",
   "metadata": {},
   "source": [
    "# <span style=\"color:red\"> MORTALIDAD POR INSUFICIENCIA CARDIACA"
   ]
  },
  {
   "cell_type": "markdown",
   "metadata": {},
   "source": [
    "Las enfermedades cardiovasculares (ECV) son la principal causa de muerte a nivel mundial , cobrando aproximadamente 17,9 millones de vidas cada año , lo que representa el 31% de todas las muertes en todo el mundo .\n",
    "\n",
    "La mayoría de las enfermedades cardiovasculares se pueden prevenir abordando los factores de riesgo conductuales como el consumo de tabaco, la dieta poco saludable y la obesidad, la inactividad física y el consumo nocivo de alcohol utilizando estrategias para toda la población.\n",
    "\n",
    "Las personas con enfermedad cardiovascular o que tienen un alto riesgo cardiovascular (debido a la presencia de uno o más factores de riesgo como hipertensión, diabetes, hiperlipidemia o enfermedad ya establecida) necesitan una detección y manejo precoces en los que un modelo de aprendizaje automático puede ser de gran ayuda."
   ]
  },
  {
   "cell_type": "markdown",
   "metadata": {},
   "source": [
    "## OBJETIVOS"
   ]
  },
  {
   "cell_type": "markdown",
   "metadata": {},
   "source": [
    "#### GENERAL"
   ]
  },
  {
   "cell_type": "markdown",
   "metadata": {},
   "source": [
    "Predecir la muerte de una persona con insuficiencia cardiaca."
   ]
  },
  {
   "cell_type": "markdown",
   "metadata": {},
   "source": [
    "#### ESPECÍFICOS"
   ]
  },
  {
   "cell_type": "markdown",
   "metadata": {},
   "source": [
    "* Encontrar la manera de complementar los nodos para realizar una predicción sobre muerte de cualquier persona. \n",
    "* Dar un apoyo extra a lo que los médicos puedan determinar con base a pruebas médicas.\n",
    "* Detectar posibles muertes futuras y generar un cambio en la persona para que su salud pueda mejorar.\n",
    "* Fungir como dato para la decisión del médico y paciente sobre operaciones, intervenciones o cualquier otro tratamiento que se deseé realizar.\n"
   ]
  },
  {
   "cell_type": "markdown",
   "metadata": {},
   "source": [
    "## PROBLEMA"
   ]
  },
  {
   "cell_type": "markdown",
   "metadata": {},
   "source": [
    "Se busca simular la muerte por insuficiencia cardiaca según los datos de distintos pacientes, tomando en cuenta sus pruebas médicas, historia clínica, hábitos y el flujo sanguíneo que presentan.\n",
    "\n",
    "Todo esto se va a juntar en el periodo de observación que lleve el paciente, y según los datos se determina la probabilidad de muerte. "
   ]
  },
  {
   "cell_type": "markdown",
   "metadata": {},
   "source": [
    "<img src=\"imagen.png\">\n",
    "<img src=\"imagen2.png\">"
   ]
  },
  {
   "cell_type": "markdown",
   "metadata": {},
   "source": [
    "## NODOS Y VARIABLES"
   ]
  },
  {
   "cell_type": "markdown",
   "metadata": {},
   "source": [
    "Pruebas médicas:\n",
    "  * Importante conocer el estado actual del paciente y como está su sangre.\n",
    "  \n",
    "História clínica:\n",
    "  * Una enfermadad como antecedente puede aumentar la probabilidad de muerte.\n",
    "  \n",
    "Hábitos:\n",
    "  * El cuidado que le dan a su salud.\n",
    "  \n",
    "Flujo sanguíneo:\n",
    "  * Cantidad de sangre que sale del corazón por cada contracción.\n",
    "  \n",
    "A todos estos nodos hay que agregarle el tiempo que se lleva en observación, es un determinante para aumentar o disminuir la probabilidad de muerte del paciente."
   ]
  },
  {
   "cell_type": "markdown",
   "metadata": {},
   "source": [
    "## HIPÓTESIS Y SUPUESTOS"
   ]
  },
  {
   "cell_type": "markdown",
   "metadata": {},
   "source": [
    "Supuestos:\n",
    "* Todos los datos son de pacientes con fallas cardiacas.\n",
    "* Todas las muertes se dan por complicaciones con esa falla.\n",
    "* Los resultados de los exámenes médicos son correctos.\n",
    "* Cada una de las variables influye directamente en la muerte de una persona.\n",
    "\n",
    "Hipótesis:\n",
    "* Los hombres serán más propensos a morir debido a que su corazón es más grande en tamaño.\n",
    "* Las personas con más edad morirán más fácilmente debido a un corazón más débil.\n",
    "* Aquellos con un periodo de observación más prolongado tendrán oportunidad de mejorar su salud."
   ]
  },
  {
   "cell_type": "markdown",
   "metadata": {},
   "source": [
    "## BASE DE DATOS"
   ]
  },
  {
   "cell_type": "markdown",
   "metadata": {},
   "source": [
    "La base de datos (autor: Davide Chicco) se obtiene por medio de la plataforma **Kaggle**, una comunidad en línea de científicos de datos y profesionales del aprendizaje automático que permite a los usuarios encontrar y publicar conjuntos de datos, explorar y crear modelos en un entorno de ciencia de datos basado en la web, trabajar con otros científicos de datos e ingenieros de aprendizaje automático y participar en concursos para resolver los desafíos de la ciencia de datos.\n",
    "\n",
    "Enlace a base de datos: https://www.kaggle.com/andrewmvd/heart-failure-clinical-data"
   ]
  },
  {
   "cell_type": "code",
   "execution_count": null,
   "metadata": {},
   "outputs": [],
   "source": []
  }
 ],
 "metadata": {
  "kernelspec": {
   "display_name": "Python 3",
   "language": "python",
   "name": "python3"
  },
  "language_info": {
   "codemirror_mode": {
    "name": "ipython",
    "version": 3
   },
   "file_extension": ".py",
   "mimetype": "text/x-python",
   "name": "python",
   "nbconvert_exporter": "python",
   "pygments_lexer": "ipython3",
   "version": "3.7.4"
  }
 },
 "nbformat": 4,
 "nbformat_minor": 2
}
